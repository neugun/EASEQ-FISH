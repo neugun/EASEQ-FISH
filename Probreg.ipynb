{
 "cells": [
  {
   "cell_type": "code",
   "execution_count": null,
   "metadata": {},
   "outputs": [],
   "source": [
    "import copy\n",
    "import numpy as np\n",
    "import open3d as o3\n",
    "from probreg import cpd\n",
    "import transforms3d as t3d\n",
    "\n",
    "def estimate_normals(pcd, params):\n",
    "    pcd.estimate_normals(search_param=params)\n",
    "    pcd.orient_normals_to_align_with_direction()\n",
    "\n",
    "\n",
    "def prepare_source_and_target_rigid_3d(source_filename,\n",
    "                                       noise_amp=0.001,\n",
    "                                       n_random=500,\n",
    "                                       orientation=np.deg2rad([0.0, 0.0, 30.0]),\n",
    "                                       translation=np.zeros(3),\n",
    "                                       voxel_size=0.005,\n",
    "                                       normals=False):\n",
    "    source = o3.io.read_point_cloud(source_filename)\n",
    "    source = source.voxel_down_sample(voxel_size=voxel_size)\n",
    "    print(source)\n",
    "    target = copy.deepcopy(source)\n",
    "    tp = np.asarray(target.points)\n",
    "    np.random.shuffle(tp)\n",
    "    rg = 1.5 * (tp.max(axis=0) - tp.min(axis=0))\n",
    "    rands = (np.random.rand(n_random, 3) - 0.5) * rg + tp.mean(axis=0)\n",
    "    target.points = o3.utility.Vector3dVector(np.r_[tp + noise_amp * np.random.randn(*tp.shape), rands])\n",
    "    ans = np.identity(4)\n",
    "    ans[:3, :3] = t3d.euler.euler2mat(*orientation)\n",
    "    ans[:3, 3] = translation\n",
    "    target.transform(ans)\n",
    "    if normals:\n",
    "        estimate_normals(source, o3.geometry.KDTreeSearchParamHybrid(radius=0.3, max_nn=50))\n",
    "        estimate_normals(target, o3.geometry.KDTreeSearchParamHybrid(radius=0.3, max_nn=50))\n",
    "    return source, target\n",
    "\n",
    "def prepare_source_and_target_nonrigid_2d(source_filename,\n",
    "                                          target_filename):\n",
    "    source = np.loadtxt(source_filename)\n",
    "    target = np.loadtxt(target_filename)\n",
    "    return source, target\n",
    "\n",
    "\n",
    "def prepare_source_and_target_nonrigid_3d(source_filename,\n",
    "                                          target_filename,\n",
    "                                          voxel_size=5.0):\n",
    "    source = o3.geometry.PointCloud()\n",
    "    target = o3.geometry.PointCloud()\n",
    "    source.points = o3.utility.Vector3dVector(np.loadtxt(source_filename))\n",
    "    target.points = o3.utility.Vector3dVector(np.loadtxt(target_filename))\n",
    "    source = source.voxel_down_sample(voxel_size=voxel_size)\n",
    "    target = target.voxel_down_sample(voxel_size=voxel_size)\n",
    "    print(source)\n",
    "    print(target)\n",
    "    return source, target"
   ]
  },
  {
   "cell_type": "markdown",
   "metadata": {},
   "source": [
    "# ICP"
   ]
  },
  {
   "cell_type": "code",
   "execution_count": null,
   "metadata": {},
   "outputs": [],
   "source": [
    "A = np.random.randint(0,101,(200,3))  # 20 points for test\n",
    "rotz = lambda theta: np.array([[np.cos(theta),-np.sin(theta),0],\n",
    "                                   [np.sin(theta),np.cos(theta),0],\n",
    "                                   [0,0,1]])\n",
    "trans = np.array([2.12,-0.2,1.3])\n",
    "B = A.dot(rotz(np.pi/4).T) + trans \n",
    "\n",
    "\n",
    "# Pass xyz to Open3D.o3d.geometry.PointCloud and visualize\n",
    "# pcd = o3.geometry.PointCloud()\n",
    "target.points = o3.utility.Vector3dVector(A)\n",
    "source.points = o3.utility.Vector3dVector(B)\n",
    "# source, target = prepare_source_and_target_rigid_3d('G:/probreg/examples/bunny.pcd')\n",
    "# target = copy.deepcopy(source)\n",
    "\n",
    "# vis = o3.visualization.Visualizer()\n",
    "# vis.create_window()\n",
    "result = copy.deepcopy(source)\n",
    "source.paint_uniform_color([1, 0, 0])\n",
    "target.paint_uniform_color([0, 1, 0])\n",
    "result.paint_uniform_color([0, 0, 1])\n",
    "# vis.add_geometry(source)\n",
    "# vis.add_geometry(target)\n",
    "# vis.add_geometry(result)\n",
    "threshold = 0.05 # how to set initially\n",
    "icp_iteration = 100\n",
    "save_image = False\n",
    "\n",
    "for i in range(icp_iteration):\n",
    "    reg_p2p = o3.pipelines.registration.registration_icp(result, target, threshold,\n",
    "                np.identity(4), o3.pipelines.registration.TransformationEstimationPointToPoint(),\n",
    "                o3.pipelines.registration.ICPConvergenceCriteria(max_iteration=1))\n",
    "    result.transform(reg_p2p.transformation)\n",
    "#     vis.update_geometry(source)\n",
    "#     vis.update_geometry(target)\n",
    "#     vis.update_geometry(result)\n",
    "#     vis.poll_events()\n",
    "#     vis.update_renderer()\n",
    "#     if save_image:\n",
    "#         vis.capture_screen_image(\"image_%04d.jpg\" % i)\n",
    "# vis.run()\n",
    "o3.visualization.draw_geometries([result,source,target])"
   ]
  },
  {
   "cell_type": "markdown",
   "metadata": {},
   "source": [
    "# CPD"
   ]
  },
  {
   "cell_type": "code",
   "execution_count": 5,
   "metadata": {},
   "outputs": [],
   "source": [
    "import copy\n",
    "import numpy as np\n",
    "import open3d as o3\n",
    "from probreg import cpd\n",
    "import transforms3d as t3d\n",
    "\n",
    "def estimate_normals(pcd, params):\n",
    "    pcd.estimate_normals(search_param=params)\n",
    "    pcd.orient_normals_to_align_with_direction()# load source and target point cloud\n",
    "    \n",
    "source = o3.io.read_point_cloud('D:/0_software/github/probreg/examples/bunny.pcd')\n",
    "source.remove_non_finite_points()\n",
    "target = copy.deepcopy(source)\n",
    "# transform target point cloud\n",
    "th = np.deg2rad(30.0)\n",
    "target.transform(np.array([[np.cos(th), -np.sin(th), 0.0, 0.0],\n",
    "                           [np.sin(th), np.cos(th), 0.0, 0.0],\n",
    "                           [0.0, 0.0, 1.0, 0.0],\n",
    "                           [0.0, 0.0, 0.0, 1.0]]))\n",
    "source = source.voxel_down_sample(voxel_size=0.005)\n",
    "target = target.voxel_down_sample(voxel_size=0.005)\n",
    "\n",
    "# compute cpd registration\n",
    "tf_param, _, _ = cpd.registration_cpd(source, target)\n",
    "result = copy.deepcopy(source)\n",
    "result.points = tf_param.transform(result.points)\n",
    "\n",
    "# draw result\n",
    "source.paint_uniform_color([1, 0, 0])\n",
    "target.paint_uniform_color([0, 1, 0])\n",
    "result.paint_uniform_color([0, 0.5, 1])\n",
    "o3.visualization.draw_geometries([source, target, result])"
   ]
  },
  {
   "cell_type": "markdown",
   "metadata": {},
   "source": [
    "# CPD with point cloud"
   ]
  },
  {
   "cell_type": "code",
   "execution_count": 4,
   "metadata": {},
   "outputs": [],
   "source": [
    "import copy\n",
    "import numpy as np\n",
    "import open3d as o3\n",
    "from probreg import cpd\n",
    "import transforms3d as t3d\n",
    "\n",
    "def estimate_normals(pcd, params):\n",
    "    pcd.estimate_normals(search_param=params)\n",
    "    pcd.orient_normals_to_align_with_direction()# load source and target point cloud\n",
    "\n",
    "# read points of # point cloud\n",
    "# xyz = np.asarray(result.points)\n",
    "\n",
    "A = np.random.randint(0,101,(200,3))  # 20 points for test\n",
    "rotz = lambda theta: np.array([[np.cos(theta),-np.sin(theta),0],\n",
    "                                   [np.sin(theta),np.cos(theta),0],\n",
    "                                   [0,0,1]])\n",
    "trans = np.array([2.12,-0.2,1.3])\n",
    "B = A.dot(rotz(np.pi/4).T) + trans \n",
    "\n",
    "# Pass xyz to Open3D.o3d.geometry.PointCloud and visualize\n",
    "# pcd = o3.geometry.PointCloud()\n",
    "target.points = o3.utility.Vector3dVector(A)\n",
    "source.points = o3.utility.Vector3dVector(B)\n",
    "# o3.io.write_point_cloud(\"../../test_data/sync.ply\", pcd)\n",
    "# o3.visualization.draw_geometries(pcd)\n",
    "\n",
    "# register\n",
    "tf_param, _, _ = cpd.registration_cpd(source, target)\n",
    "result = copy.deepcopy(source)\n",
    "result.points = tf_param.transform(result.points)\n",
    "\n",
    "# draw result\n",
    "source.paint_uniform_color([1, 0, 0])\n",
    "target.paint_uniform_color([0, 1, 0])\n",
    "result.paint_uniform_color([0, 0.5, 1])\n",
    "o3.visualization.draw_geometries([result,source])"
   ]
  },
  {
   "cell_type": "code",
   "execution_count": null,
   "metadata": {},
   "outputs": [],
   "source": [
    "# print(np.asarray(source.points).shape)\n",
    "# print(np.asarray(target.points).shape)\n",
    "# print(np.asarray(result.points).shape)\n",
    "# o3.visualization.draw_geometries([result])\n",
    "\n",
    "# o3.io.write_point_cloud(\"../../test_data/sync.ply\", pcd) # Function to write PointCloud to file"
   ]
  },
  {
   "cell_type": "markdown",
   "metadata": {},
   "source": [
    "# cpd_rigid_cuda"
   ]
  },
  {
   "cell_type": "code",
   "execution_count": null,
   "metadata": {},
   "outputs": [],
   "source": [
    "import numpy as np\n",
    "use_cuda = True\n",
    "if use_cuda:\n",
    "    import cupy as cp\n",
    "    to_cpu = cp.asnumpy\n",
    "    cp.cuda.set_allocator(cp.cuda.MemoryPool().malloc)\n",
    "else:\n",
    "    cp = np\n",
    "    to_cpu = lambda x: x\n",
    "import open3d as o3\n",
    "import transforms3d as trans\n",
    "from probreg import cpd\n",
    "from probreg import callbacks\n",
    "import utils\n",
    "import time\n",
    "\n",
    "source, target = utils.prepare_source_and_target_rigid_3d('bunny.pcd', voxel_size=0.003)\n",
    "source = cp.asarray(source.points, dtype=cp.float32)\n",
    "target = cp.asarray(target.points, dtype=cp.float32)\n",
    "\n",
    "rcpd = cpd.RigidCPD(source, use_cuda=use_cuda)\n",
    "start = time.time()\n",
    "tf_param, _, _ = rcpd.registration(target)\n",
    "elapsed = time.time() - start\n",
    "print(\"time: \", elapsed)\n",
    "\n",
    "print(\"result: \", np.rad2deg(t3d.euler.mat2euler(to_cpu(tf_param.rot))),\n",
    "      tf_param.scale, to_cpu(tf_param.t))"
   ]
  },
  {
   "cell_type": "markdown",
   "metadata": {},
   "source": [
    "# cpd_affine3d_cuda"
   ]
  },
  {
   "cell_type": "code",
   "execution_count": null,
   "metadata": {},
   "outputs": [],
   "source": [
    "import numpy as np\n",
    "use_cuda = True\n",
    "if use_cuda:\n",
    "    import cupy as cp\n",
    "    to_cpu = cp.asnumpy\n",
    "    cp.cuda.set_allocator(cp.cuda.MemoryPool().malloc)\n",
    "else:\n",
    "    cp = np\n",
    "    to_cpu = lambda x: x\n",
    "import open3d as o3\n",
    "from probreg import cpd\n",
    "from probreg import callbacks\n",
    "import utils\n",
    "import time\n",
    "\n",
    "source, target = utils.prepare_source_and_target_nonrigid_3d('face-x.txt', 'face-y.txt', voxel_size=3.0)\n",
    "source = cp.asarray(source.points, dtype=cp.float32)\n",
    "target = cp.asarray(target.points, dtype=cp.float32)\n",
    "\n",
    "acpd = cpd.AffineCPD(source, use_cuda=use_cuda)\n",
    "start = time.time()\n",
    "tf_param, _, _ = acpd.registration(target)\n",
    "elapsed = time.time() - start\n",
    "print(\"time: \", elapsed)\n",
    "\n",
    "print(\"result: \", to_cpu(tf_param.b), to_cpu(tf_param.t))"
   ]
  },
  {
   "cell_type": "markdown",
   "metadata": {},
   "source": [
    "# gmmtree_rigid"
   ]
  },
  {
   "cell_type": "code",
   "execution_count": null,
   "metadata": {},
   "outputs": [],
   "source": [
    "import numpy as np\n",
    "import transforms3d as t3d\n",
    "from probreg import gmmtree\n",
    "from probreg import callbacks\n",
    "import utils\n",
    "\n",
    "source, target = utils.prepare_source_and_target_rigid_3d('bunny.pcd', n_random=0)\n",
    "\n",
    "cbs = [callbacks.Open3dVisualizerCallback(source, target)]\n",
    "tf_param, _ = gmmtree.registration_gmmtree(source, target, callbacks=cbs)\n",
    "\n",
    "print(\"result: \", np.rad2deg(t3d.euler.mat2euler(tf_param.rot)),\n",
    "      tf_param.scale, tf_param.t)"
   ]
  },
  {
   "cell_type": "markdown",
   "metadata": {},
   "source": [
    "# filterreg_rigid"
   ]
  },
  {
   "cell_type": "code",
   "execution_count": null,
   "metadata": {},
   "outputs": [],
   "source": [
    "import numpy as np\n",
    "import transforms3d as t3d\n",
    "from probreg import filterreg\n",
    "from probreg import callbacks\n",
    "import utils\n",
    "\n",
    "source, target = utils.prepare_source_and_target_rigid_3d('bunny.pcd')\n",
    "\n",
    "cbs = [callbacks.Open3dVisualizerCallback(source, target)]\n",
    "objective_type = 'pt2pt'\n",
    "tf_param, _, _ = filterreg.registration_filterreg(source, target,\n",
    "                                                  objective_type=objective_type,\n",
    "                                                  sigma2=None,\n",
    "                                                  update_sigma2=True,\n",
    "                                                  callbacks=cbs)\n",
    "\n",
    "print(\"result: \", np.rad2deg(t3d.euler.mat2euler(tf_param.rot)),\n",
    "      tf_param.scale, tf_param.t)"
   ]
  },
  {
   "cell_type": "markdown",
   "metadata": {},
   "source": [
    "# svr_rigid"
   ]
  },
  {
   "cell_type": "code",
   "execution_count": 1,
   "metadata": {},
   "outputs": [
    {
     "name": "stdout",
     "output_type": "stream",
     "text": [
      "Jupyter environment detected. Enabling Open3D WebVisualizer.\n",
      "[Open3D INFO] WebRTC GUI backend enabled.\n",
      "[Open3D INFO] WebRTCWindowSystem: HTTP handshake server disabled.\n"
     ]
    },
    {
     "ename": "ModuleNotFoundError",
     "evalue": "No module named 'utils'",
     "output_type": "error",
     "traceback": [
      "\u001b[1;31m---------------------------------------------------------------------------\u001b[0m",
      "\u001b[1;31mModuleNotFoundError\u001b[0m                       Traceback (most recent call last)",
      "Input \u001b[1;32mIn [1]\u001b[0m, in \u001b[0;36m<cell line: 5>\u001b[1;34m()\u001b[0m\n\u001b[0;32m      3\u001b[0m \u001b[38;5;28;01mfrom\u001b[39;00m \u001b[38;5;21;01mprobreg\u001b[39;00m \u001b[38;5;28;01mimport\u001b[39;00m l2dist_regs\n\u001b[0;32m      4\u001b[0m \u001b[38;5;28;01mfrom\u001b[39;00m \u001b[38;5;21;01mprobreg\u001b[39;00m \u001b[38;5;28;01mimport\u001b[39;00m callbacks\n\u001b[1;32m----> 5\u001b[0m \u001b[38;5;28;01mimport\u001b[39;00m \u001b[38;5;21;01mutils\u001b[39;00m\n\u001b[0;32m      7\u001b[0m source, target \u001b[38;5;241m=\u001b[39m utils\u001b[38;5;241m.\u001b[39mprepare_source_and_target_rigid_3d(\u001b[38;5;124m'\u001b[39m\u001b[38;5;124mbunny.pcd\u001b[39m\u001b[38;5;124m'\u001b[39m, n_random\u001b[38;5;241m=\u001b[39m\u001b[38;5;241m0\u001b[39m)\n\u001b[0;32m      9\u001b[0m cbs \u001b[38;5;241m=\u001b[39m [callbacks\u001b[38;5;241m.\u001b[39mOpen3dVisualizerCallback(source, target)]\n",
      "\u001b[1;31mModuleNotFoundError\u001b[0m: No module named 'utils'"
     ]
    }
   ],
   "source": [
    "import numpy as np\n",
    "import transforms3d as t3d\n",
    "from probreg import l2dist_regs\n",
    "from probreg import callbacks\n",
    "# import utils\n",
    "\n",
    "source, target = utils.prepare_source_and_target_rigid_3d('bunny.pcd', n_random=0)\n",
    "\n",
    "cbs = [callbacks.Open3dVisualizerCallback(source, target)]\n",
    "tf_param = l2dist_regs.registration_svr(source, target, callbacks=cbs)\n",
    "\n",
    "print(\"result: \", np.rad2deg(t3d.euler.mat2euler(tf_param.rot)),\n",
    "      tf_param.scale, tf_param.t)"
   ]
  },
  {
   "cell_type": "markdown",
   "metadata": {},
   "source": [
    "# cpd_nonrigid3d_cuda.py"
   ]
  },
  {
   "cell_type": "code",
   "execution_count": 8,
   "metadata": {},
   "outputs": [
    {
     "name": "stdout",
     "output_type": "stream",
     "text": [
      "time:  0.2964601516723633\n",
      "result:  [[ 2.05505882 -0.92490157  0.93029277]\n",
      " [-0.79028673  0.48508255 -0.96037097]\n",
      " [-0.66808533  1.14580345 -0.69689935]\n",
      " ...\n",
      " [ 1.82050339 -0.58081339 -2.82333118]\n",
      " [-1.9659839  -0.36522374  0.35111367]\n",
      " [-1.92147476 -0.44572055  0.51062099]] [[1.         0.9981962  0.99893767 ... 0.9954284  0.99813515 0.99811935]\n",
      " [0.9981962  1.         0.99935746 ... 0.99111515 0.9936516  0.9936    ]\n",
      " [0.99893767 0.99935746 1.         ... 0.9915706  0.99477583 0.9947912 ]\n",
      " ...\n",
      " [0.9954284  0.99111515 0.9915706  ... 1.         0.99900573 0.99899477]\n",
      " [0.99813515 0.9936516  0.99477583 ... 0.99900573 1.         0.9999975 ]\n",
      " [0.99811935 0.9936     0.9947912  ... 0.99899477 0.9999975  1.        ]]\n"
     ]
    }
   ],
   "source": [
    "import numpy as np\n",
    "use_cuda = True\n",
    "if use_cuda:\n",
    "    import cupy as cp\n",
    "    to_cpu = cp.asnumpy\n",
    "    cp.cuda.set_allocator(cp.cuda.MemoryPool().malloc)\n",
    "else:\n",
    "    cp = np\n",
    "    to_cpu = lambda x: x\n",
    "import open3d as o3\n",
    "from probreg import cpd\n",
    "from probreg import callbacks\n",
    "# import utils\n",
    "import time\n",
    "\n",
    "# source, target = prepare_source_and_target_nonrigid_3d('D:/0_software/github/probreg/examples/face-x.txt', 'D:/0_software/github/probreg/examples/face-y.txt', voxel_size=5.0)\n",
    "source_pt = cp.asarray(source.points, dtype=cp.float32)\n",
    "target_pt = cp.asarray(target.points, dtype=cp.float32)\n",
    "\n",
    "acpd = cpd.NonRigidCPD(source_pt, use_cuda=use_cuda)\n",
    "start = time.time()\n",
    "tf_param, _, _ = acpd.registration(target_pt)\n",
    "elapsed = time.time() - start\n",
    "print(\"time: \", elapsed)\n",
    "\n",
    "print(\"result: \", to_cpu(tf_param.w), to_cpu(tf_param.g))\n",
    "\n",
    "result = tf_param.transform(source_pt)\n",
    "pc = o3.geometry.PointCloud()\n",
    "pc.points = o3.utility.Vector3dVector(to_cpu(result))\n",
    "pc.paint_uniform_color([0, 1, 0])\n",
    "target.paint_uniform_color([0, 0, 1])\n",
    "o3.visualization.draw_geometries([pc, source,target])"
   ]
  },
  {
   "cell_type": "markdown",
   "metadata": {},
   "source": [
    "# bcpd_nonrigid.py "
   ]
  },
  {
   "cell_type": "code",
   "execution_count": 9,
   "metadata": {},
   "outputs": [
    {
     "name": "stdout",
     "output_type": "stream",
     "text": [
      "result:  [-0.01578165  0.01471676  0.00152319] 0.33544550420297714 [-0.04948553  0.0496432   0.01958222]\n"
     ]
    }
   ],
   "source": [
    "import numpy as np\n",
    "import open3d as o3\n",
    "import transforms3d as t3d\n",
    "from probreg import bcpd\n",
    "from probreg import callbacks\n",
    "# import utils\n",
    "\n",
    "# source, target = prepare_source_and_target_nonrigid_3d('D:/0_software/github/probreg/examples/bunny-x.txt','D:/0_software/github/probreg/examples/bunny-y.txt', 0.1)\n",
    "cbs = [callbacks.Open3dVisualizerCallback(source, target)]\n",
    "tf_param = bcpd.registration_bcpd(source, target,callbacks=cbs)\n",
    "\n",
    "print(\"result: \", np.rad2deg(t3d.euler.mat2euler(tf_param.rigid_trans.rot)),tf_param.rigid_trans.scale, tf_param.rigid_trans.t)"
   ]
  },
  {
   "cell_type": "markdown",
   "metadata": {},
   "source": [
    "# filterreg_deformable"
   ]
  },
  {
   "cell_type": "code",
   "execution_count": null,
   "metadata": {},
   "outputs": [],
   "source": [
    "import copy\n",
    "import numpy as np\n",
    "import open3d as o3\n",
    "from probreg import filterreg\n",
    "from probreg import callbacks\n",
    "from probreg import transformation\n",
    "from dq3d import dualquat, quat\n",
    "\n",
    "n_points = 30\n",
    "points = np.array([[i * 0.05, 0.0, 0.0] for i in range(n_points)])\n",
    "tfs = [(quat(np.deg2rad(0.0), np.array([0.0, 0.0, 1.0])), np.array([0.0, 0.0, 0.0])),\n",
    "       (quat(np.deg2rad(30.0), np.array([0.0, 0.0, 1.0])), np.array([0.0, 0.0, 0.3]))]\n",
    "dqs = [dualquat(t[0], t[1]) for t in tfs]\n",
    "ws = transformation.DeformableKinematicModel.SkinningWeight(n_points)\n",
    "for i in range(n_points):\n",
    "    ws['pair'][i][0] = 0\n",
    "    ws['pair'][i][1] = 1\n",
    "for i in range(n_points):\n",
    "    ws['val'][i][0] = float(i) / n_points\n",
    "    ws['val'][i][1] = 1.0 - float(i) / n_points\n",
    "dtf = transformation.DeformableKinematicModel(dqs, ws)\n",
    "tf_points = dtf.transform(points)\n",
    "\n",
    "source = o3.geometry.PointCloud()\n",
    "source.points = o3.utility.Vector3dVector(points)\n",
    "target = o3.geometry.PointCloud()\n",
    "target.points = o3.utility.Vector3dVector(tf_points)\n",
    "\n",
    "cbs = [callbacks.Open3dVisualizerCallback(source, target)]\n",
    "cv = lambda x: np.asarray(x.points if isinstance(x, o3.geometry.PointCloud) else x)\n",
    "reg = filterreg.DeformableKinematicFilterReg(cv(source), ws, 0.01)\n",
    "reg.set_callbacks(cbs)\n",
    "tf_param, _, _ = reg.registration(cv(target))\n",
    "\n",
    "print(dqs)\n",
    "print(tf_param.dualquats)"
   ]
  },
  {
   "cell_type": "markdown",
   "metadata": {},
   "source": [
    "# time_measurement."
   ]
  },
  {
   "cell_type": "code",
   "execution_count": null,
   "metadata": {},
   "outputs": [],
   "source": [
    "from timeit import default_timer as timer\n",
    "import numpy as np\n",
    "import open3d as o3\n",
    "import utils\n",
    "from probreg import cpd\n",
    "from probreg import l2dist_regs\n",
    "from probreg import gmmtree\n",
    "from probreg import filterreg\n",
    "\n",
    "threshold = 0.001\n",
    "max_iteration = 100\n",
    "\n",
    "source, target = utils.prepare_source_and_target_rigid_3d('bunny.pcd',  n_random=0,\n",
    "                                                          orientation=np.deg2rad([0.0, 0.0, 10.0]))\n",
    "\n",
    "start = timer()\n",
    "res = o3.pipelines.registration.registration_icp(source, target, 0.5,\n",
    "                                                 np.identity(4), o3.pipelines.registration.TransformationEstimationPointToPoint(),\n",
    "                                                 o3.pipelines.registration.ICPConvergenceCriteria(max_iteration=max_iteration))\n",
    "end = timer()\n",
    "print('ICP(Open3D): ', end - start)\n",
    "\n",
    "start = timer()\n",
    "res = cpd.registration_cpd(source, target, maxiter=max_iteration, tol=threshold)\n",
    "end = timer()\n",
    "print('CPD: ', end - start)\n",
    "\n",
    "start = timer()\n",
    "res = l2dist_regs.registration_svr(source, target, opt_maxiter=max_iteration, opt_tol=threshold)\n",
    "end = timer()\n",
    "print('SVR: ', end - start)\n",
    "\n",
    "start = timer()\n",
    "res = gmmtree.registration_gmmtree(source, target, maxiter=max_iteration, tol=threshold)\n",
    "end = timer()\n",
    "print('GMMTree: ', end - start)\n",
    "\n",
    "start = timer()\n",
    "res = filterreg.registration_filterreg(source, target,\n",
    "                                       sigma2=None, maxiter=max_iteration, tol=threshold)\n",
    "end = timer()\n",
    "print('FilterReg: ', end - start)"
   ]
  },
  {
   "cell_type": "markdown",
   "metadata": {},
   "source": [
    "# Evaluation"
   ]
  },
  {
   "cell_type": "code",
   "execution_count": null,
   "metadata": {},
   "outputs": [],
   "source": [
    "from scipy.spatial import KDTree\n",
    "target_tree = KDTree(target, leafsize=10)\n",
    "rmse = math_utils.compute_rmse(source, target_tree)"
   ]
  }
 ],
 "metadata": {
  "kernelspec": {
   "display_name": "easifish",
   "language": "python",
   "name": "easifish"
  },
  "language_info": {
   "codemirror_mode": {
    "name": "ipython",
    "version": 3
   },
   "file_extension": ".py",
   "mimetype": "text/x-python",
   "name": "python",
   "nbconvert_exporter": "python",
   "pygments_lexer": "ipython3",
   "version": "3.8.12"
  }
 },
 "nbformat": 4,
 "nbformat_minor": 2
}
